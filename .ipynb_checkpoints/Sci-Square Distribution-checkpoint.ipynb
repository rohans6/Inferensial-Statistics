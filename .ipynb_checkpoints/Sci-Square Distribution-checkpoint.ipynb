{
 "cells": [
  {
   "cell_type": "markdown",
   "id": "d9bb2c13",
   "metadata": {},
   "source": [
    "# Test of Single Variance\n",
    "1. Example 1:-\n",
    "\n",
    "With individual lines at its various windows, a post office finds that the standard deviation for waiting times for customers on Friday afternoon is 7.2 minutes. The post office experiments with a single, main waiting line and finds that for a random sample of 25 customers, the waiting times for customers have a standard deviation of 3.5 minutes on a Friday afternoon.\n",
    "\n",
    "With a significance level of 5%, test the claim that a single line causes lower variation among waiting times for customers.\n",
    "\n",
    "Since the claim is that a single line causes less variation, this is a test of a single variance. The parameter is the population variance, σ2.\n",
    "\n",
    "Random Variable: The sample standard deviation, s, is the random variable. Let s = standard deviation for the waiting times.\n",
    "\n",
    "H0: σ2 ≥ 7.22\n",
    "Ha: σ2 < 7.22\n",
    "The word “less” tells you this is a left-tailed test.\n",
    "\n",
    "Distribution for the test:{\\chi }_{24}^{2}, where:\n",
    "\n",
    "n = the number of customers sampled\n",
    "df = n – 1 = 25 – 1 = 24"
   ]
  },
  {
   "cell_type": "code",
   "execution_count": 34,
   "id": "1118c60d",
   "metadata": {},
   "outputs": [],
   "source": [
    "import statsmodels.api as sm\n",
    "import scipy.stats.distributions as dist\n",
    "import numpy as np\n",
    "import scipy.stats as stats"
   ]
  },
  {
   "cell_type": "code",
   "execution_count": 12,
   "id": "dbadaf96",
   "metadata": {},
   "outputs": [
    {
     "name": "stdout",
     "output_type": "stream",
     "text": [
      "Test Statistic = 5.64\n",
      "Critical Value Corresponding to 5% Confidence = 13.09\n",
      "==================================================\n",
      "Rejecting Null Hypothesis\n",
      "==================================================\n",
      "Using P-Value Approach\n",
      "Rejecting Null Hypothesis\n"
     ]
    }
   ],
   "source": [
    "df=24-1\n",
    "test_stat=(25-1)*(3.5**2)/(7.22**2)\n",
    "print(\"Test Statistic =\",np.round(test_stat,2))\n",
    "\n",
    "critical_value=dist.chi2.ppf(q=0.05,df=df)  # q=lower tail probality\n",
    "print(\"Critical Value Corresponding to 5% Confidence =\",np.round(critical_value,2))\n",
    "print(\"=\"*50)\n",
    "if critical_value>test_stat:\n",
    "    print(\"Rejecting Null Hypothesis\")\n",
    "else:\n",
    "    print(\"Fail to Reject Null Hypothesis\")\n",
    "print(\"=\"*50)\n",
    "print(\"Using P-Value Approach\")\n",
    "p_value=dist.chi2.cdf(x=test_stat,df=df)\n",
    "\n",
    "if p_value>0.05:\n",
    "    print(\"Fail to Reject Null Hypothesis\")\n",
    "else:\n",
    "    print(\"Rejecting Null Hypothesis\")"
   ]
  },
  {
   "attachments": {
    "image-2.png": {
     "image/png": "[encoded data removed]"
    },
    "image.png": {
     "image/png": "[encoded data removed]"
    }
   },
   "cell_type": "markdown",
   "id": "643db6f3",
   "metadata": {},
   "source": [
    "2. Example 2:-\n",
    "\n",
    "Professor Hadley has a weakness for cream filled donuts, but he believes that some bakeries are not properly filling the donuts. A sample of 24 donuts reveals a mean amount of filling equal to 0.04 cups, and the sample standard deviation is 0.11 cups. Professor Hadley has an interest in the average quantity of filling, of course, but he is particularly distressed if one donut is radically different from another. Professor Hadley does not like surprises.\n",
    "\n",
    "Test at 95% the null hypothesis that the population variance of donut filling is significantly different from the average amount of filling.\n",
    "\n",
    "This is clearly a problem dealing with variances. In this case we are testing a single sample rather than comparing two samples from different populations. The null and alternative hypotheses are thus:\n",
    "\n",
    "![image.png](attachment:image.png)\n",
    "![image-2.png](attachment:image-2.png)"
   ]
  },
  {
   "cell_type": "code",
   "execution_count": 33,
   "id": "977f7fd7",
   "metadata": {},
   "outputs": [
    {
     "name": "stdout",
     "output_type": "stream",
     "text": [
      "Test Statistic = 173.9375\n",
      "Critical Values = (11.688551922452438, 38.0756272503558)\n",
      "Rejecting Null Hypothesis\n",
      "==================================================\n",
      "Using P-Value Approach\n",
      "Rejecting Null Hypothesis\n"
     ]
    }
   ],
   "source": [
    "n=24\n",
    "df=n-1\n",
    "test_stat=df*(0.11**2)/(0.04**2)\n",
    "print(\"Test Statistic =\",test_stat)\n",
    "critical_value_0=dist.chi2.ppf(q=0.025,df=df)\n",
    "critical_value_1=dist.chi2.ppf(q=1-0.025,df=df)\n",
    "critical_values=(critical_value_0,critical_value_1)\n",
    "print(\"Critical Values =\",critical_values)\n",
    "\n",
    "if critical_values[0]<test_stat<critical_values[1]:\n",
    "    print(\"Fail to Reject Null Hypothesis\")\n",
    "else:\n",
    "    print(\"Rejecting Null Hypothesis\")\n",
    "\n",
    "print(\"=\"*50)\n",
    "print(\"Using P-Value Approach\")\n",
    "\n",
    "p_value=1-dist.chi2.cdf(x=critical_value_1,df=df)+dist.chi2.cdf(x=critical_value_0,df=df)\n",
    "\n",
    "if p_value>0.05:\n",
    "    print(\"Fail to Reject Null Hypothesis\")\n",
    "else:\n",
    "    print(\"Rejecting Null Hypothesis\")\n"
   ]
  },
  {
   "cell_type": "markdown",
   "id": "7d73c920",
   "metadata": {},
   "source": [
    "# Goodness-of-Fit Test\n",
    "Because of the Chi-Squared Distribution the test is most of the times right-tail test.\n",
    "Null Hypothesis assumes that data fits the given distribution."
   ]
  },
  {
   "cell_type": "markdown",
   "id": "4e67edde",
   "metadata": {},
   "source": [
    "Employers want to know which days of the week employees are absent in a five-day work week. Most employers would like to believe that employees are absent equally during the week. Suppose a random sample of 60 managers were asked on which day of the week they had the highest number of employee absences. The results were distributed as in (Figure). For the population of employees, do the days for the highest number of absences occur with equal frequencies during a five-day work week? Test at a 5% significance level.\n",
    "\n",
    "Day of the Week Employees were Most Absent\n",
    "\n",
    "Monday\tTuesday\tWednesday\tThursday\tFriday\n",
    "\n",
    "Number of absences\t15\t12\t9\t9\t15\n",
    "\n",
    "The null and alternative hypotheses are:\n",
    "\n",
    "H0: The absent days occur with equal frequencies, that is, they fit a uniform distribution.\n",
    "Ha: The absent days occur with unequal frequencies, that is, they do not fit a uniform distribution."
   ]
  },
  {
   "cell_type": "code",
   "execution_count": 43,
   "id": "f1dc2c86",
   "metadata": {},
   "outputs": [
    {
     "name": "stdout",
     "output_type": "stream",
     "text": [
      "Expected Values = [12 12 12 12 12]\n",
      "Test Statistic = 3.0\n",
      "Critical Stat = 9.487729036781154\n",
      "Fail to Reject Null Hypothesis\n",
      "==================================================\n",
      "Using P-Value Approach\n",
      "Fail to Reject Null Hypothesis\n"
     ]
    }
   ],
   "source": [
    "observed=np.array([15,12,9,9,15])\n",
    "total_absent=15+12+9+9+15\n",
    "expected=np.repeat(total_absent/5,5,)\n",
    "expected=expected.astype(int)\n",
    "print(\"Expected Values =\",expected)\n",
    "test_stat=0\n",
    "for i in range(5):\n",
    "    test_stat+=(observed[i]-expected[i])**2/expected[i]\n",
    "print(\"Test Statistic =\",test_stat)\n",
    "\n",
    "critical_stat=dist.chi2.ppf(q=1-0.05,df=4)\n",
    "print(\"Critical Stat =\",critical_stat)\n",
    "\n",
    "if test_stat<critical_stat:\n",
    "    print(\"Fail to Reject Null Hypothesis\")\n",
    "else:\n",
    "    print(\"Rejecting Null Hypothesis\")\n",
    "    \n",
    "print(\"=\"*50)\n",
    "print(\"Using P-Value Approach\")\n",
    "p_value=1-dist.chi2.cdf(test_stat,df=4)\n",
    "if p_value>0.05:\n",
    "    print(\"Fail to Reject Null Hypothesis\")\n",
    "else:\n",
    "    print(\"Rejecting Null Hypothesis\")"
   ]
  },
  {
   "cell_type": "markdown",
   "id": "0dc518ba",
   "metadata": {},
   "source": [
    "#  Test of Independence\n",
    "\n",
    "Null Hypothesis:- Thr Groups are independent.\n",
    "A volunteer group, provides from one to nine hours each week with disabled senior citizens. The program recruits among community college students, four-year college students, and nonstudents. In (Figure) is a sample of the adult volunteers and the number of hours they volunteer per week.\n",
    "\n",
    "Number of Hours Worked Per Week by Volunteer Type (Observed)The table contains observed (O) values (data).\n",
    "\n",
    "Type of volunteer\t1–3 Hours\t4–6 Hours\t7–9 Hours\tRow total\n",
    "\n",
    "Community college students\t111\t96\t48\t255\n",
    "\n",
    "Four-year college students\t96\t133\t61\t290\n",
    "\n",
    "Nonstudents\t                91\t150\t53\t294\n",
    "\n",
    "Column total\t            298\t379\t162\t839"
   ]
  },
  {
   "cell_type": "code",
   "execution_count": 47,
   "id": "e094b048",
   "metadata": {},
   "outputs": [
    {
     "name": "stdout",
     "output_type": "stream",
     "text": [
      "Observed = [[111  96  48]\n",
      " [ 96 133  61]\n",
      " [ 91 150  53]]\n",
      "Expected = [[ 90.57210965 115.19070322  49.23718713]\n",
      " [103.00357569 131.0011919   55.99523242]\n",
      " [104.42431466 132.80810489  56.76758045]]\n"
     ]
    }
   ],
   "source": [
    "observed=np.array([[111,96,48],[96,133,61],[91,150,53]])\n",
    "print(\"Observed =\",observed)\n",
    "\n",
    "expected=stats.chi2_contingency(observed)[3]\n",
    "print(\"Expected =\",expected)\n",
    "\n"
   ]
  },
  {
   "cell_type": "code",
   "execution_count": 49,
   "id": "140f146b",
   "metadata": {},
   "outputs": [
    {
     "name": "stdout",
     "output_type": "stream",
     "text": [
      "[111  96  48]\n",
      "[ 90.57210965 115.19070322  49.23718713]\n",
      "==================================================\n",
      "[ 96 133  61]\n",
      "[103.00357569 131.0011919   55.99523242]\n",
      "==================================================\n",
      "[ 91 150  53]\n",
      "[104.42431466 132.80810489  56.76758045]\n",
      "==================================================\n"
     ]
    }
   ],
   "source": [
    "for i,j in zip(observed,expected):\n",
    "    print(i)\n",
    "    print(j)\n",
    "    print(\"=\"*50)"
   ]
  },
  {
   "cell_type": "code",
   "execution_count": 58,
   "id": "0c996f8e",
   "metadata": {},
   "outputs": [
    {
     "name": "stdout",
     "output_type": "stream",
     "text": [
      "Test Statistic = 12.990918513170868\n",
      "Critical Statistic = 9.487729036781154\n",
      " Reject Null Hypothesis\n",
      "==================================================\n",
      "Using P-Value Approach\n",
      "Reject Null Hypothesis\n"
     ]
    }
   ],
   "source": [
    "test_stat=sum([(o-e)**2/e for o,e in zip(observed,expected)]).sum()\n",
    "print(\"Test Statistic =\",test_stat)\n",
    "df=(3-1)*(3-1)\n",
    "critical_stat=dist.chi2.ppf(q=1-0.05,df=df)\n",
    "print(\"Critical Statistic =\",critical_stat)\n",
    "\n",
    "if test_stat>critical_stat:\n",
    "    print(\" Reject Null Hypothesis\")\n",
    "else:\n",
    "    print(\"Fail to Reject Null Hypothesis\")\n",
    "    \n",
    "print(\"=\"*50)\n",
    "print(\"Using P-Value Approach\")\n",
    "\n",
    "p_value=1-dist.chi2.cdf(x=test_stat,df=df)\n",
    "if p_value>0.05:\n",
    "    print(\"Fail to Reject Null Hypothesis\")\n",
    "else:\n",
    "    print(\"Reject Null Hypothesis\")\n",
    "    "
   ]
  },
  {
   "cell_type": "code",
   "execution_count": null,
   "id": "0f1dd684",
   "metadata": {},
   "outputs": [],
   "source": []
  }
 ],
 "metadata": {
  "kernelspec": {
   "display_name": "Python 3",
   "language": "python",
   "name": "python3"
  },
  "language_info": {
   "codemirror_mode": {
    "name": "ipython",
    "version": 3
   },
   "file_extension": ".py",
   "mimetype": "text/x-python",
   "name": "python",
   "nbconvert_exporter": "python",
   "pygments_lexer": "ipython3",
   "version": "3.8.8"
  }
 },
 "nbformat": 4,
 "nbformat_minor": 5
}
