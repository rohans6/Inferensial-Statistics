{
 "cells": [
  {
   "cell_type": "code",
   "execution_count": 1,
   "metadata": {},
   "outputs": [],
   "source": [
    "import pandas as pd\n",
    "import numpy as np\n",
    "import matplotlib\n",
    "matplotlib.use('Agg') # workaround, there may be a better way\n",
    "import seaborn as sns\n",
    "%matplotlib inline\n",
    "import matplotlib.pyplot as plt\n",
    "import statsmodels.api as sm\n",
    "import scipy.stats.distributions as di"
   ]
  },
  {
   "cell_type": "code",
   "execution_count": 2,
   "metadata": {},
   "outputs": [],
   "source": [
    "url = \"nhanes_2015_2016.csv\"\n",
    "da = pd.read_csv(url)\n",
    "\n",
    "da[\"SMQ020x\"] = da.SMQ020.replace({1: \"Yes\", 2: \"No\", 7: np.nan, 9: np.nan})\n",
    "da[\"RIAGENDRx\"] = da.RIAGENDR.replace({1: \"Male\", 2: \"Female\"})\n"
   ]
  },
  {
   "cell_type": "markdown",
   "metadata": {},
   "source": [
    "### Hypothesis Tests for One Proportion\n",
    "\n",
    "The most basic hypothesis test may be the one-sample test for a proportion.  This test is used if we have specified a particular value as the null value for the proportion, and we wish to assess if the data are compatible with the true parameter value being equal to this specified value.  One-sample tests are not used very often in practice, because it is not very common that we have a specific fixed value to use for comparison. For illustration, imagine that the rate of lifetime smoking in another country was known to be 40%, and we wished to assess whether the rate of lifetime smoking in the US were different from 40%.  In the following notebook cell, we carry out the (two-sided) one-sample test that the population proportion of smokers is 0.4, and obtain a p-va"
   ]
  },
  {
   "cell_type": "code",
   "execution_count": 10,
   "metadata": {},
   "outputs": [
    {
     "name": "stdout",
     "output_type": "stream",
     "text": [
      "-0.7830393680037091\n",
      "0.433603994264955\n",
      "Fail to Reject Null Hypo\n"
     ]
    }
   ],
   "source": [
    "best_estimate=0.4\n",
    "hypo_estimate=np.mean(da['SMQ020x'].dropna()==\"Yes\")\n",
    "se=np.sqrt((best_estimate*(1-best_estimate))/len(da))\n",
    "test_stat=(best_estimate-hypo_estimate)/se\n",
    "print(test_stat)\n",
    "pvalue=di.norm.cdf(test_stat)+1-di.norm.cdf(-test_stat)\n",
    "print(pvalue)\n",
    "print(\"Fail to Reject Null Hypo\")"
   ]
  },
  {
   "cell_type": "code",
   "execution_count": 12,
   "metadata": {},
   "outputs": [
    {
     "name": "stdout",
     "output_type": "stream",
     "text": [
      "0.7806837045732543 0.43498854710143553\n",
      "Fail to Reject Null Hypothesis\n"
     ]
    }
   ],
   "source": [
    "test_stat,pvalue=sm.stats.ztest(da['SMQ020x'].dropna()==\"Yes\",value=0.4)\n",
    "print(test_stat,pvalue)\n",
    "if pvalue>0.05:\n",
    "    print(\"Fail to Reject Null Hypothesis\")\n",
    "else:\n",
    "    print(\"Reject Null Hypothesis\")"
   ]
  },
  {
   "cell_type": "markdown",
   "metadata": {},
   "source": [
    "### Hypothesis Tests for Two Proportions\n",
    "\n",
    "Comparative tests tend to be used much more frequently than tests comparing one population to a fixed value.  A two-sample test of proportions is used to assess whether the proportion of individuals with some trait differs between two sub-populations.  For example, we can compare the smoking rates between females and males. Since smoking rates vary strongly with age, we do this in the subpopulation of people between 20 and 25 years of age.  In the cell below, we carry out this test without using any libraries, implementing all the test procedures covered elsewhere in the course using Python code.  We find that the smoking rate for men is around 10 percentage points greater than the smoking rate for females, and this difference is statistically significant (the p-value is around 0.01)."
   ]
  },
  {
   "cell_type": "code",
   "execution_count": 17,
   "metadata": {},
   "outputs": [
    {
     "name": "stdout",
     "output_type": "stream",
     "text": [
      "           Proportion  Size\n",
      "RIAGENDRx                  \n",
      "Female       0.304435  2976\n",
      "Male         0.512142  2759\n"
     ]
    }
   ],
   "source": [
    "\n",
    "results=da.groupby(\"RIAGENDRx\").agg({\"SMQ020x\":[lambda x:np.mean(x==\"Yes\"),np.size]})\n",
    "results.columns=['Proportion','Size']\n",
    "print(results)"
   ]
  },
  {
   "cell_type": "code",
   "execution_count": 22,
   "metadata": {},
   "outputs": [
    {
     "name": "stdout",
     "output_type": "stream",
     "text": [
      "-15.989587754738997 0.0\n"
     ]
    }
   ],
   "source": [
    "# Male-Female\n",
    "print(\"Manual Calculation\")\n",
    "p_comb=(results.Proportion.Male+results.Proportion.Female)/2\n",
    "hypo_estimate=results.Proportion.Male-results.Proportion.Female\n",
    "best_estimate=0\n",
    "val=p_comb*(1-p_comb)\n",
    "se=np.sqrt(val*((1/results.Size.Female)+(1/results.Size.Male)))\n",
    "t_stat=(best_estimate-hypo_estimate)/se\n",
    "pvalue=di.norm.cdf(t_stat)+1-di.norm.cdf(-t_stat)\n",
    "print(t_stat,pvalue)"
   ]
  },
  {
   "cell_type": "code",
   "execution_count": 31,
   "metadata": {},
   "outputs": [
    {
     "name": "stdout",
     "output_type": "stream",
     "text": [
      "16.420585558984445 1.362455350780943e-60\n"
     ]
    }
   ],
   "source": [
    "print(\"Using StatModels\")\n",
    "male=dx.loc[dx['RIAGENDRx']=='Male','SMQ020x'].replace({\"Yes\":1,\"No\":0})\n",
    "female=dx.loc[dx['RIAGENDRx']=='Female','SMQ020x'].replace({\"Yes\":1,\"No\":0})\n",
    "test_stat,pvalue=sm.stats.ztest(male,female)\n",
    "print(test_stat,pvalue)"
   ]
  }
 ],
 "metadata": {
  "interpreter": {
   "hash": "b3ba2566441a7c06988d0923437866b63cedc61552a5af99d1f4fb67d367b25f"
  },
  "kernelspec": {
   "display_name": "Python 3.8.8 64-bit ('base': conda)",
   "language": "python",
   "name": "python3"
  },
  "language_info": {
   "codemirror_mode": {
    "name": "ipython",
    "version": 3
   },
   "file_extension": ".py",
   "mimetype": "text/x-python",
   "name": "python",
   "nbconvert_exporter": "python",
   "pygments_lexer": "ipython3",
   "version": "3.8.8"
  },
  "orig_nbformat": 4
 },
 "nbformat": 4,
 "nbformat_minor": 2
}
